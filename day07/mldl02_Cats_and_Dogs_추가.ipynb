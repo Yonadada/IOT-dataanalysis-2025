{
 "cells": [
  {
   "cell_type": "code",
   "execution_count": 1,
   "id": "44baf57c",
   "metadata": {},
   "outputs": [],
   "source": [
    "# 사용모듈 로드\n",
    "import torch\n",
    "import torch.nn as nn\n",
    "import torch.nn.functional as F"
   ]
  },
  {
   "cell_type": "code",
   "execution_count": 2,
   "id": "f1ce7b68",
   "metadata": {},
   "outputs": [],
   "source": [
    "# 클래스 정의\n",
    "class CatDogCNN(nn.Module):\n",
    "    def __init__(self):\n",
    "        super(CatDogCNN, self).__init__()\n",
    "        self.conv1 = nn.Conv2d(3, 32, kernel_size=3, padding=1)\n",
    "        self.pool = nn.MaxPool2d(2, 2) # conv1, conv2 모두 사용\n",
    "        self.conv2 = nn.Conv2d(32, 64, kernel_size=3, padding=1)\n",
    "        self.fc1 = nn.Linear(64 * 32 * 32, 128) # MaxPool(128) -> MaxPool(64) -> 32x32\n",
    "        self.fc2 = nn.Linear(128, 1) # 마지막 분류가 0, 1\n",
    "\n",
    "    def forward(self, x):\n",
    "        # conv -> activation -> maxpooling 2회 실시\n",
    "        # dense1, 2 통과\n",
    "        x = self.pool(F.relu(self.conv1(x)))\n",
    "        x = self.pool(F.relu(self.conv2(x)))\n",
    "        x = x.view(-1, 64 * 32 * 32)\n",
    "        x = F.relu(self.fc1(x))\n",
    "        x = torch.sigmoid(self.fc2(x)) \n",
    "        return x"
   ]
  },
  {
   "cell_type": "code",
   "execution_count": null,
   "id": "f2244686",
   "metadata": {},
   "outputs": [],
   "source": [
    "model = torch.load('./catdog_weight.pth', )"
   ]
  }
 ],
 "metadata": {
  "kernelspec": {
   "display_name": "mlvenv",
   "language": "python",
   "name": "python3"
  },
  "language_info": {
   "codemirror_mode": {
    "name": "ipython",
    "version": 3
   },
   "file_extension": ".py",
   "mimetype": "text/x-python",
   "name": "python",
   "nbconvert_exporter": "python",
   "pygments_lexer": "ipython3",
   "version": "3.11.9"
  }
 },
 "nbformat": 4,
 "nbformat_minor": 5
}
