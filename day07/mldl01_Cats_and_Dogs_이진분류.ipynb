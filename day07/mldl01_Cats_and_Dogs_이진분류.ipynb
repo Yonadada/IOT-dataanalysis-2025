{
 "cells": [
  {
   "cell_type": "markdown",
   "id": "7fcd2811",
   "metadata": {},
   "source": [
    "## Cats and Dogs 이진 분류\n",
    "\n",
    "### 이진분류 프로젝트\n",
    "\n",
    "#### 개요\n",
    "\n",
    "-  목표 : CNN으로 개와 고양이 이미지 분류 이진 분류기"
   ]
  },
  {
   "cell_type": "markdown",
   "id": "787b340a",
   "metadata": {},
   "source": [
    "#### Kaggle 데이터 다운로드 \n",
    "- Kaggle이란? \n",
    "    - https://www.kaggle.com/ \n",
    "    - 예측모델 및 분석 대회 플랫폼. 2017년 구글이 인수 \n",
    "\n",
    "1. Kaggle 계정 만들기\n",
    "2. 설정진입\n",
    "    - https://www.kaggle.com/settings\n",
    "    - API > Create New Token 클릭 Kaggle.json 다운로드 \n",
    "\n",
    "3. 파이썬 Kaggle 패기지 설치\n",
    "!pip install kaggle\n",
    "\n",
    "4. kaggle.json 파일 위치\n",
    "    - 리눅스/유닉스 : ~/.kaggle/kaggle.json\n",
    "    - 윈도우 : %USERPROFILE%\\.kaggle\n",
    "        - 사용자 폴더 아래\n",
    "        - .kaggle 파일을 만든다 \n",
    "        - 다운받은 Kaggle.json 토큰을 .kaggle 파일에 집어넣는다\n",
    "\n",
    "5. https://www.kaggle.com/competitions/dogs-vs-cats/overview\n",
    "    - Data"
   ]
  },
  {
   "cell_type": "code",
   "execution_count": 1,
   "id": "be93df5a",
   "metadata": {},
   "outputs": [
    {
     "name": "stdout",
     "output_type": "stream",
     "text": [
      "Collecting kaggle\n",
      "  Downloading kaggle-1.7.4.2-py3-none-any.whl.metadata (16 kB)\n",
      "Collecting bleach (from kaggle)\n",
      "  Using cached bleach-6.2.0-py3-none-any.whl.metadata (30 kB)\n",
      "Requirement already satisfied: certifi>=14.05.14 in c:\\source\\iot-dataanalysis-2025\\mlvenv\\lib\\site-packages (from kaggle) (2025.1.31)\n",
      "Requirement already satisfied: charset-normalizer in c:\\source\\iot-dataanalysis-2025\\mlvenv\\lib\\site-packages (from kaggle) (3.4.1)\n",
      "Requirement already satisfied: idna in c:\\source\\iot-dataanalysis-2025\\mlvenv\\lib\\site-packages (from kaggle) (3.10)\n",
      "Requirement already satisfied: protobuf in c:\\source\\iot-dataanalysis-2025\\mlvenv\\lib\\site-packages (from kaggle) (4.25.6)\n",
      "Requirement already satisfied: python-dateutil>=2.5.3 in c:\\source\\iot-dataanalysis-2025\\mlvenv\\lib\\site-packages (from kaggle) (2.9.0.post0)\n",
      "Collecting python-slugify (from kaggle)\n",
      "  Downloading python_slugify-8.0.4-py2.py3-none-any.whl.metadata (8.5 kB)\n",
      "Requirement already satisfied: requests in c:\\source\\iot-dataanalysis-2025\\mlvenv\\lib\\site-packages (from kaggle) (2.32.3)\n",
      "Requirement already satisfied: setuptools>=21.0.0 in c:\\source\\iot-dataanalysis-2025\\mlvenv\\lib\\site-packages (from kaggle) (65.5.0)\n",
      "Requirement already satisfied: six>=1.10 in c:\\source\\iot-dataanalysis-2025\\mlvenv\\lib\\site-packages (from kaggle) (1.17.0)\n",
      "Collecting text-unidecode (from kaggle)\n",
      "  Downloading text_unidecode-1.3-py2.py3-none-any.whl.metadata (2.4 kB)\n",
      "Collecting tqdm (from kaggle)\n",
      "  Using cached tqdm-4.67.1-py3-none-any.whl.metadata (57 kB)\n",
      "Requirement already satisfied: urllib3>=1.15.1 in c:\\source\\iot-dataanalysis-2025\\mlvenv\\lib\\site-packages (from kaggle) (2.3.0)\n",
      "Collecting webencodings (from kaggle)\n",
      "  Using cached webencodings-0.5.1-py2.py3-none-any.whl.metadata (2.1 kB)\n",
      "Requirement already satisfied: colorama in c:\\source\\iot-dataanalysis-2025\\mlvenv\\lib\\site-packages (from tqdm->kaggle) (0.4.6)\n",
      "Downloading kaggle-1.7.4.2-py3-none-any.whl (173 kB)\n",
      "   ---------------------------------------- 0.0/173.2 kB ? eta -:--:--\n",
      "   ---------------------------- ----------- 122.9/173.2 kB 3.5 MB/s eta 0:00:01\n",
      "   ---------------------------------------- 173.2/173.2 kB 3.5 MB/s eta 0:00:00\n",
      "Using cached bleach-6.2.0-py3-none-any.whl (163 kB)\n",
      "Downloading python_slugify-8.0.4-py2.py3-none-any.whl (10 kB)\n",
      "Downloading text_unidecode-1.3-py2.py3-none-any.whl (78 kB)\n",
      "   ---------------------------------------- 0.0/78.2 kB ? eta -:--:--\n",
      "   ---------------------------------------- 78.2/78.2 kB 4.5 MB/s eta 0:00:00\n",
      "Using cached tqdm-4.67.1-py3-none-any.whl (78 kB)\n",
      "Using cached webencodings-0.5.1-py2.py3-none-any.whl (11 kB)\n",
      "Installing collected packages: webencodings, text-unidecode, tqdm, python-slugify, bleach, kaggle\n",
      "Successfully installed bleach-6.2.0 kaggle-1.7.4.2 python-slugify-8.0.4 text-unidecode-1.3 tqdm-4.67.1 webencodings-0.5.1\n"
     ]
    },
    {
     "name": "stderr",
     "output_type": "stream",
     "text": [
      "\n",
      "[notice] A new release of pip is available: 24.0 -> 25.0.1\n",
      "[notice] To update, run: python.exe -m pip install --upgrade pip\n"
     ]
    }
   ],
   "source": [
    "!pip install kaggle"
   ]
  },
  {
   "cell_type": "code",
   "execution_count": 3,
   "id": "9cfc1429",
   "metadata": {},
   "outputs": [
    {
     "name": "stdout",
     "output_type": "stream",
     "text": [
      "403 Client Error: Forbidden for url: https://www.kaggle.com/api/v1/competitions/data/download-all/dogs-vs-cats\n"
     ]
    }
   ],
   "source": [
    "# 데이터셋 다운로드\n",
    "!kaggle competitions download -c dogs-vs-cats"
   ]
  }
 ],
 "metadata": {
  "kernelspec": {
   "display_name": "mlvenv",
   "language": "python",
   "name": "python3"
  },
  "language_info": {
   "codemirror_mode": {
    "name": "ipython",
    "version": 3
   },
   "file_extension": ".py",
   "mimetype": "text/x-python",
   "name": "python",
   "nbconvert_exporter": "python",
   "pygments_lexer": "ipython3",
   "version": "3.11.9"
  }
 },
 "nbformat": 4,
 "nbformat_minor": 5
}
