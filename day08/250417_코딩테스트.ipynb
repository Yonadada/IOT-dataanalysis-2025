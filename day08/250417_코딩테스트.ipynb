{
 "cells": [
  {
   "cell_type": "markdown",
   "id": "0299583e",
   "metadata": {
    "id": "0299583e"
   },
   "source": [
    "## 코딩테스트\n",
    "\n",
    "### MNIST 손글씨 숫자 분류"
   ]
  },
  {
   "cell_type": "code",
   "execution_count": 2,
   "id": "8faf2380",
   "metadata": {
    "id": "8faf2380"
   },
   "outputs": [],
   "source": [
    "import torch\n",
    "import torch.nn as nn\n",
    "import torch.nn.functional as F\n",
    "import torchvision\n",
    "import torchvision.transforms as transforms\n",
    "from torch.utils.data import DataLoader"
   ]
  },
  {
   "cell_type": "markdown",
   "id": "6ba33f2c",
   "metadata": {
    "id": "6ba33f2c"
   },
   "source": [
    "### 데이터 로딩 및 전처리"
   ]
  },
  {
   "cell_type": "code",
   "execution_count": 3,
   "id": "5763f27a",
   "metadata": {
    "id": "5763f27a",
    "outputId": "d0012b07-9c76-4f03-d7c7-77960d527ddd"
   },
   "outputs": [
    {
     "name": "stdout",
     "output_type": "stream",
     "text": [
      "CPU/GPU: cuda\n"
     ]
    },
    {
     "name": "stderr",
     "output_type": "stream",
     "text": [
      "100%|██████████| 9.91M/9.91M [00:01<00:00, 6.48MB/s]\n",
      "100%|██████████| 28.9k/28.9k [00:00<00:00, 155kB/s]\n",
      "100%|██████████| 1.65M/1.65M [00:01<00:00, 1.41MB/s]\n",
      "100%|██████████| 4.54k/4.54k [00:00<?, ?B/s]\n"
     ]
    }
   ],
   "source": [
    "device = torch.device('cuda' if torch.cuda.is_available() else 'cpu')\n",
    "print(f'CPU/GPU: {device}')\n",
    "\n",
    "transform = transforms.ToTensor()\n",
    "\n",
    "train_set = torchvision.datasets.MNIST(\n",
    "    root='./data', train=True, download=True, transform=transform)\n",
    "\n",
    "test_set = torchvision.datasets.MNIST(\n",
    "    root='./data', train=False, download=True, transform=transform)\n",
    "\n",
    "train_loader = DataLoader(train_set, batch_size=64, shuffle=True)\n",
    "test_loader = DataLoader(test_set, batch_size=64, shuffle=False)"
   ]
  },
  {
   "cell_type": "markdown",
   "id": "79f98a6f",
   "metadata": {
    "id": "79f98a6f"
   },
   "source": [
    "### CNN 모델 선언"
   ]
  },
  {
   "cell_type": "code",
   "execution_count": null,
   "id": "263c99b0",
   "metadata": {
    "id": "263c99b0"
   },
   "outputs": [],
   "source": [
    "class CNN(nn.Module):\n",
    "    def __init__(self):\n",
    "        super(CNN, self).__init__()\n",
    "        self.conv1 = nn.Conv2d(1, 16, kernel_size=3)\n",
    "        self.pool = nn.MaxPool2d(2, 2)\n",
    "        self.conv2 = nn.Conv2d(16, 32, kernel_size=3)\n",
    "        self.fc1 = nn.Linear(32 * 5 * 5, 128)\n",
    "        self.fc2 = nn.Linear(128, 10)\n",
    "\n",
    "    def forward(self, x):\n",
    "        x = self.pool(F.relu(self.conv1(x)))\n",
    "        x = self.pool(F.relu(self.conv2(x)))\n",
    "        # 문제. 아래의 주석을 풀고 알맞은 Flatten 내용을 추가하시오.\n",
    "        # x = _________________________________\n",
    "        x = torch.flatten(x,1)\n",
    "        x = F.relu(self.fc1(x))\n",
    "        x = self.fc2(x)\n",
    "        #x = torch.sigmoid(self.fc2(x))\n",
    "        return x"
   ]
  },
  {
   "cell_type": "code",
   "execution_count": 28,
   "id": "46145b44",
   "metadata": {
    "id": "46145b44"
   },
   "outputs": [],
   "source": [
    "model = CNN()"
   ]
  },
  {
   "cell_type": "markdown",
   "id": "011f41a8",
   "metadata": {
    "id": "011f41a8"
   },
   "source": [
    "### 손실함수와 옵티마이저"
   ]
  },
  {
   "cell_type": "code",
   "execution_count": 29,
   "id": "6711155f",
   "metadata": {
    "id": "6711155f"
   },
   "outputs": [],
   "source": [
    "criterion = nn.CrossEntropyLoss()\n",
    "# 문제: 아래의 주석을 해제, Adam 옵티마이저를 설정하고 학습률은 0.001로 지정하세요.\n",
    "# optimizer = _________________________________\n",
    "optimizer = torch.optim.Adam(model.parameters(), lr=0.001)"
   ]
  },
  {
   "cell_type": "markdown",
   "id": "42e8d7f0",
   "metadata": {
    "id": "42e8d7f0"
   },
   "source": [
    "### 학습"
   ]
  },
  {
   "cell_type": "code",
   "execution_count": 30,
   "id": "3103fc24",
   "metadata": {
    "id": "3103fc24"
   },
   "outputs": [
    {
     "name": "stdout",
     "output_type": "stream",
     "text": [
      "[Epoch 1] Loss: 0.2389\n",
      "[Epoch 2] Loss: 0.0710\n",
      "[Epoch 3] Loss: 0.0498\n",
      "[Epoch 4] Loss: 0.0381\n",
      "[Epoch 5] Loss: 0.0303\n"
     ]
    }
   ],
   "source": [
    "epochs = 5\n",
    "for epoch in range(epochs):\n",
    "    running_loss = 0.0\n",
    "    for images, labels in train_loader:\n",
    "        outputs = model(images)\n",
    "        # 문제: 아래의 주석 해제, 손실(loss)를 계산하세요.\n",
    "        # loss = _________________________________\n",
    "        loss = criterion(outputs, labels)\n",
    "        optimizer.zero_grad()\n",
    "        loss.backward()\n",
    "        optimizer.step()\n",
    "\n",
    "        running_loss += loss.item()\n",
    "\n",
    "    print(f\"[Epoch {epoch+1}] Loss: {running_loss / len(train_loader):.4f}\")"
   ]
  },
  {
   "cell_type": "markdown",
   "id": "2f267b62",
   "metadata": {
    "id": "2f267b62"
   },
   "source": [
    "### 평가 및 저장"
   ]
  },
  {
   "cell_type": "code",
   "execution_count": 34,
   "id": "50d80a86",
   "metadata": {
    "id": "50d80a86"
   },
   "outputs": [
    {
     "name": "stdout",
     "output_type": "stream",
     "text": [
      "테스트 정확도: 98.99%\n"
     ]
    },
    {
     "data": {
      "text/plain": [
       "CNN(\n",
       "  (conv1): Conv2d(1, 16, kernel_size=(3, 3), stride=(1, 1))\n",
       "  (pool): MaxPool2d(kernel_size=2, stride=2, padding=0, dilation=1, ceil_mode=False)\n",
       "  (conv2): Conv2d(16, 32, kernel_size=(3, 3), stride=(1, 1))\n",
       "  (fc1): Linear(in_features=800, out_features=128, bias=True)\n",
       "  (fc2): Linear(in_features=128, out_features=10, bias=True)\n",
       ")"
      ]
     },
     "execution_count": 34,
     "metadata": {},
     "output_type": "execute_result"
    }
   ],
   "source": [
    "model.eval()\n",
    "correct = 0\n",
    "total = 0\n",
    "with torch.no_grad():\n",
    "    for images, labels in test_loader:\n",
    "        outputs = model(images)\n",
    "        _, predicted = torch.max(outputs, 1)    # 확귤이 가장 높은 클래스 인덱스 선택\n",
    "        total += labels.size(0) # 전체 데이터 수 누적\n",
    "        # 문제: 주석해제 후, 정확히 예측한 개수를 누적하세요.\n",
    "        # correct += _________________________________\n",
    "        correct += (predicted == labels).sum().item() # predicted -> 모델이 예측한 클래스 / labels -> 실제정답 클래스\n",
    "\n",
    "print(f'테스트 정확도: {100 * correct / total:.2f}%')\n",
    "\n",
    "# 문제: 모델 저장 (선택) - 학습된 모델을 'mnist_cnn.pth' 파일로 저장하는 코드를 작성하시오\n",
    "# torch.save(____________________, 'mnist_cnn.pth')\n",
    "torch.save(model.state_dict(),'mnist_cnn.pth')\n",
    "model.eval()"
   ]
  },
  {
   "cell_type": "markdown",
   "id": "92e2f5b9",
   "metadata": {
    "id": "92e2f5b9"
   },
   "source": [
    "#### 위의 내용을 CUDA에서 동작하도록 하나의 셀에 작성 완성하시오"
   ]
  },
  {
   "cell_type": "code",
   "execution_count": 36,
   "id": "R6TrLM55Tzc4",
   "metadata": {
    "executionInfo": {
     "elapsed": 8,
     "status": "ok",
     "timestamp": 1744785345623,
     "user": {
      "displayName": "MG “Hugo” Sung",
      "userId": "01836946422587818310"
     },
     "user_tz": -540
    },
    "id": "R6TrLM55Tzc4"
   },
   "outputs": [
    {
     "name": "stdout",
     "output_type": "stream",
     "text": [
      "[Epoch 1] Loss: 0.2324\n",
      "[Epoch 2] Loss: 0.0713\n",
      "[Epoch 3] Loss: 0.0488\n",
      "[Epoch 4] Loss: 0.0381\n",
      "[Epoch 5] Loss: 0.0300\n",
      "테스트 정확도:  98.720000%\n"
     ]
    }
   ],
   "source": [
    "# 문제: 전체 소스 작성\n",
    "\n",
    "import torch\n",
    "import torch.nn as nn\n",
    "import torch.nn.functional as F\n",
    "\n",
    "#1 CNN 모델 정의\n",
    "class CNN(nn.Module):\n",
    "    def __init__(self):\n",
    "        super(CNN, self).__init__()\n",
    "        self.conv1 = nn.Conv2d(1, 16, kernel_size=3)\n",
    "        self.pool = nn.MaxPool2d(2, 2)\n",
    "        self.conv2 = nn.Conv2d(16, 32, kernel_size=3)\n",
    "        self.fc1 = nn.Linear(32 * 5 * 5, 128)\n",
    "        self.fc2 = nn.Linear(128, 10)\n",
    "        \n",
    "    def forward(self, x):\n",
    "        x = self.pool(F.relu(self.conv1(x)))\n",
    "        x = self.pool(F.relu(self.conv2(x)))\n",
    "        # 문제. 아래의 주석을 풀고 알맞은 Flatten 내용을 추가하시오.\n",
    "        # x = _________________________________\n",
    "        x = torch.flatten(x,1)\n",
    "        x = F.relu(self.fc1(x))\n",
    "        x = self.fc2(x)\n",
    "        return x    \n",
    "        \n",
    "\n",
    "#2 cuda 준비(또는 cpu)\n",
    "device = torch.device('cuda' if torch.cuda.is_available() else 'cpu')\n",
    "model.to(device)\n",
    "\n",
    "#3 모델, 손실 함수, 옵티마이저 정의 및 device로 이동 \n",
    "model = CNN().to(device)    # a모델을 GPU 또는 CPU에 올림\n",
    "criterion = nn.CrossEntropyLoss() # 다중 클래스 분류용 손실함수\n",
    "optimizer = torch.optim.Adam(model.parameters(), lr=0.001) # Adam 옵티마이저\n",
    "\n",
    "\n",
    "#4 학습루프 시작 \n",
    "epochs = 5  # 에폭 수 설정\n",
    "for epoch in range(epochs):\n",
    "    model.train()  # 모델을 학습 모드로 전환\n",
    "    running_loss = 0.0  # 에폭마다 손실 누적 초기화\n",
    "\n",
    "    for images, labels in train_loader:  # 훈련 데이터 반복\n",
    "        images = images.to(device)  # 이미지 텐서를 GPU로 이동\n",
    "        labels = labels.to(device)  # 라벨도 GPU로 이동\n",
    "\n",
    "        outputs = model(images)  # 모델에 입력 전달 → 예측 출력\n",
    "        loss = criterion(outputs, labels)  # 예측 결과와 정답으로 손실 계산\n",
    "\n",
    "        optimizer.zero_grad()  # 이전 gradient 초기화\n",
    "        loss.backward()        # 역전파로 gradient 계산\n",
    "        optimizer.step()       # 가중치 업데이트\n",
    "\n",
    "        running_loss += loss.item()  # 현재 배치 손실 누적\n",
    "\n",
    "    # 한 에폭이 끝날 때 평균 손실 출력\n",
    "    print(f\"[Epoch {epoch+1}] Loss: {running_loss / len(train_loader):.4f}\")\n",
    "\n",
    "#5 평가루프\n",
    "model.eval()\n",
    "correct = 0\n",
    "total = 0\n",
    "\n",
    "with torch.no_grad():\n",
    "    for images, labels in test_loader:\n",
    "        images = images.to(device)   # 입력 이미지 GPU\n",
    "        labels = labels.to(device)  # 라벨도 GPU로 \n",
    "        \n",
    "        outputs = model(images) # 모델도 GPU에서 연산\n",
    "        _, predicted = torch.max(outputs, 1)\n",
    "        \n",
    "        total += labels.size(0)\n",
    "        correct += (predicted == labels).sum().item()\n",
    "\n",
    "accuracy = 100 * correct/total\n",
    "print(f'테스트 정확도: {accuracy: 2f}%')\n",
    "\n",
    "\n",
    "#6 모델 저장\n",
    "torch.save(model.state_dict(),'mnist_cnn.pth')"
   ]
  }
 ],
 "metadata": {
  "colab": {
   "provenance": []
  },
  "kernelspec": {
   "display_name": "mlvenv",
   "language": "python",
   "name": "python3"
  },
  "language_info": {
   "codemirror_mode": {
    "name": "ipython",
    "version": 3
   },
   "file_extension": ".py",
   "mimetype": "text/x-python",
   "name": "python",
   "nbconvert_exporter": "python",
   "pygments_lexer": "ipython3",
   "version": "3.11.9"
  }
 },
 "nbformat": 4,
 "nbformat_minor": 5
}
